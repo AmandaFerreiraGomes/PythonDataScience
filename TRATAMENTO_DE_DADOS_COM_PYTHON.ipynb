{
  "nbformat": 4,
  "nbformat_minor": 0,
  "metadata": {
    "colab": {
      "name": "TRATAMENTO DE DADOS COM PYTHON.ipynb",
      "provenance": [],
      "collapsed_sections": [],
      "authorship_tag": "ABX9TyODEcvRDZRAo0L/mfQlFLHP",
      "include_colab_link": true
    },
    "kernelspec": {
      "name": "python3",
      "display_name": "Python 3"
    },
    "language_info": {
      "name": "python"
    }
  },
  "cells": [
    {
      "cell_type": "markdown",
      "metadata": {
        "id": "view-in-github",
        "colab_type": "text"
      },
      "source": [
        "<a href=\"https://colab.research.google.com/github/AmandaFerreiraGomes/PythonDataScience/blob/main/TRATAMENTO_DE_DADOS_COM_PYTHON.ipynb\" target=\"_parent\"><img src=\"https://colab.research.google.com/assets/colab-badge.svg\" alt=\"Open In Colab\"/></a>"
      ]
    },
    {
      "cell_type": "markdown",
      "metadata": {
        "id": "z0DgFedjENNs"
      },
      "source": [
        "# **1.  INTRODUÇÃO:**"
      ]
    },
    {
      "cell_type": "markdown",
      "metadata": {
        "id": "uaVMHvHXs8YR"
      },
      "source": [
        "## ***A BIBLIOGRAFIA DESTE ESTUDO É A DE FERNANDO FELTRIN: TRATAMENTO DE DADOS COM PYTHON.***"
      ]
    },
    {
      "cell_type": "markdown",
      "metadata": {
        "id": "jD3dfR7a88DB"
      },
      "source": [
        "A biblioteca pandas foi criada especificamente para análise e manipulação de dados. Os dados que são tratados com essa biblioteca são essencialmente organizados em tabelas (linhas x colunas), as quais são indexadas e mapeadas seguindo um padrão. É, se não a melhor, uma das melhores bibliotecas para tratamento de dados."
      ]
    },
    {
      "cell_type": "code",
      "metadata": {
        "id": "Pz_8obTVs0aX"
      },
      "source": [
        "# Inicialmente, importa-se a biblioteca pandas com a sigla pd, para resumir e facilitar a codificação.\n",
        "import pandas as pd \n",
        "\n",
        "import numpy as np"
      ],
      "execution_count": 1,
      "outputs": []
    },
    {
      "cell_type": "markdown",
      "metadata": {
        "id": "92xogoFF93mg"
      },
      "source": [
        "# Tipos básicos de dados pandas: DataFrame e Series.\n",
        "\n",
        "## -> Series: equivale a um array unidimensional, o qual é mapeado e indexado, ou seja, possui índice próprio. Esse tipo de dado é capaz de aceitar qualquer tipo de dado python."
      ]
    },
    {
      "cell_type": "code",
      "metadata": {
        "colab": {
          "base_uri": "https://localhost:8080/"
        },
        "id": "CFYReHQjtuWP",
        "outputId": "868764d3-da44-465b-a4a9-f396966f1f2f"
      },
      "source": [
        "# Cria-se o vetor, em que são inseridos 19 elementos (números primos :).\n",
        "base = [2,3,5,7,11,13,17,19,23,29,31,37,41,43,47,51,53,57,59]\n",
        "\n",
        "# Converte-se o vetor em uma série, na qual os valores serão indexados.\n",
        "data = pd.Series(base)\n",
        "\n",
        "# Imprime-se a sequência de elementos com seus respectivos índices.\n",
        "print(f'Com series: \\n{data}')\n",
        "\n",
        "# Imprime-se os elementos do vetor, o qual não possui indexação, \n",
        "# ou seja, os elementos não têm um índice específico para localização.\n",
        "print(f'Sem series:')\n",
        "for i in base:\n",
        "  print(f'-> {i}')"
      ],
      "execution_count": 2,
      "outputs": [
        {
          "output_type": "stream",
          "name": "stdout",
          "text": [
            "Com series: \n",
            "0      2\n",
            "1      3\n",
            "2      5\n",
            "3      7\n",
            "4     11\n",
            "5     13\n",
            "6     17\n",
            "7     19\n",
            "8     23\n",
            "9     29\n",
            "10    31\n",
            "11    37\n",
            "12    41\n",
            "13    43\n",
            "14    47\n",
            "15    51\n",
            "16    53\n",
            "17    57\n",
            "18    59\n",
            "dtype: int64\n",
            "Sem series:\n",
            "-> 2\n",
            "-> 3\n",
            "-> 5\n",
            "-> 7\n",
            "-> 11\n",
            "-> 13\n",
            "-> 17\n",
            "-> 19\n",
            "-> 23\n",
            "-> 29\n",
            "-> 31\n",
            "-> 37\n",
            "-> 41\n",
            "-> 43\n",
            "-> 47\n",
            "-> 51\n",
            "-> 53\n",
            "-> 57\n",
            "-> 59\n"
          ]
        }
      ]
    },
    {
      "cell_type": "markdown",
      "metadata": {
        "id": "k3HitfC9-t4a"
      },
      "source": [
        "## -> DataFrame: equivale a um array multidimensional. É formado por um conjunto de series.\n"
      ]
    },
    {
      "cell_type": "code",
      "metadata": {
        "colab": {
          "base_uri": "https://localhost:8080/"
        },
        "id": "ks-mFwT8--r5",
        "outputId": "3df4f2c7-85f5-4262-b05a-82a9ff67b99b"
      },
      "source": [
        "base = {\n",
        "    'NOME': ['Joaquim', 'Tauriel', 'Kiara', 'Théo', 'Mel', 'Bolinha'],\n",
        "    'TELEFONE': [88992515587, 88992515588, 88992515589, 88992515590, 88992515591, 88992515592],\n",
        "    'E-MAIL': ['motinha@hotmail.com', 'tata@hotmail.com', 'kiara@hotmail.com', 'theodoro@gmail.com', 'melanie@gmail.com', 'lilball@gmail.com'],\n",
        "    'CIDADE': ['Ibiapina', 'Ibiapina', 'Ibiapina', 'Ibiapina', 'Ibiapina', 'Sobral'],\n",
        "    'UF': ['CE', 'CE', 'CE', 'CE', 'CE', 'CE']\n",
        "        }\n",
        "\n",
        "data = pd.DataFrame(base)\n",
        "\n",
        "print(data)"
      ],
      "execution_count": 3,
      "outputs": [
        {
          "output_type": "stream",
          "name": "stdout",
          "text": [
            "      NOME     TELEFONE               E-MAIL    CIDADE  UF\n",
            "0  Joaquim  88992515587  motinha@hotmail.com  Ibiapina  CE\n",
            "1  Tauriel  88992515588     tata@hotmail.com  Ibiapina  CE\n",
            "2    Kiara  88992515589    kiara@hotmail.com  Ibiapina  CE\n",
            "3     Théo  88992515590   theodoro@gmail.com  Ibiapina  CE\n",
            "4      Mel  88992515591    melanie@gmail.com  Ibiapina  CE\n",
            "5  Bolinha  88992515592    lilball@gmail.com    Sobral  CE\n"
          ]
        }
      ]
    },
    {
      "cell_type": "markdown",
      "metadata": {
        "id": "8qpM9J4lEZlO"
      },
      "source": [
        "# **2.  SERIES:**\n",
        "## CRIANDO UMA SERIE."
      ]
    },
    {
      "cell_type": "code",
      "metadata": {
        "colab": {
          "base_uri": "https://localhost:8080/"
        },
        "id": "4jysH45cO27c",
        "outputId": "22f0c08d-b25a-4e3b-a0c7-09b8f599d105"
      },
      "source": [
        "# Percebe-se que com o uso de series, podemos indexar os elementos do array, que no caso é unidimensional.\n",
        "# 1ª forma de criar uma série, com o método construtor mais básico, o qual recebe uma lista de elementos que será convertida em série.\n",
        "base = ['Amanda', 'Ferreira', 'Gomes']\n",
        "\n",
        "data = pd.Series(base)\n",
        "\n",
        "# 2ª orma de criar uma série: data = pd.Series(['Amanda', 'Ferreira', 'Gomes'])\n",
        "\n",
        "j = 0\n",
        "\n",
        "for i in data:\n",
        "  if j == 0:\n",
        "    print(f'Primeiro Nome: {i}')\n",
        "    j = j + 1\n",
        "  elif j == 1:\n",
        "    print(f'Sobrenome 1: {i}')\n",
        "    j = j + 1\n",
        "  else:\n",
        "    print(f'Sobrenome 2: {i}')"
      ],
      "execution_count": 4,
      "outputs": [
        {
          "output_type": "stream",
          "name": "stdout",
          "text": [
            "Primeiro Nome: Amanda\n",
            "Sobrenome 1: Ferreira\n",
            "Sobrenome 2: Gomes\n"
          ]
        }
      ]
    },
    {
      "cell_type": "code",
      "metadata": {
        "colab": {
          "base_uri": "https://localhost:8080/"
        },
        "id": "LFAxx-nUT8HM",
        "outputId": "611272eb-9d8f-409d-c8d2-e99075952e32"
      },
      "source": [
        "# Visualizando o cabeçalho (os 5 primeiros elementos), para tal, utiliza-se do método head():\n",
        "\n",
        "data.head()\n",
        "\n",
        "# se quiser delimitar o número de exibições:\n",
        "\n",
        "data.head(2)\n",
        "\n",
        "# Exibe-se o tipo de dado de 'data':\n",
        "\n",
        "print(type(data))\n",
        "\n",
        "# o método head() permite que tenhamos uma visualização de uma certa amostra de dados, que pode ser de qualquer tamanho, mas o padrão é que se exiba 5 elementos."
      ],
      "execution_count": 5,
      "outputs": [
        {
          "output_type": "stream",
          "name": "stdout",
          "text": [
            "<class 'pandas.core.series.Series'>\n"
          ]
        }
      ]
    },
    {
      "cell_type": "code",
      "metadata": {
        "colab": {
          "base_uri": "https://localhost:8080/"
        },
        "id": "3zYVfg6WXAKn",
        "outputId": "8ce03d5d-ea5f-4a54-d83b-c3289c933c0e"
      },
      "source": [
        "nomes = ['Amanda', 'Ferreira', 'Gomes', 'Tauriel', 'Ferreira', 'Gomes']\n",
        "\n",
        "data2 = pd.Series(data = nomes)\n",
        "\n",
        "# pode-se fazer dentro dos parâmetros de series a atribuição da lista à variável que vai receber o array unidimensional serie.\n",
        "# data2 = pd.Series(nomes) é a mesma vibe de data2 = pd.Series(data = nomes). \n",
        "# Isso ocorre pelo fato de que por padrão o primeiro parâmetro da função é a origem dos dados, então, caso hajam mais parâmetros dentro da função, torna-se necessária a atribuição.\n",
        "print(data2)"
      ],
      "execution_count": 6,
      "outputs": [
        {
          "output_type": "stream",
          "name": "stdout",
          "text": [
            "0      Amanda\n",
            "1    Ferreira\n",
            "2       Gomes\n",
            "3     Tauriel\n",
            "4    Ferreira\n",
            "5       Gomes\n",
            "dtype: object\n"
          ]
        }
      ]
    },
    {
      "cell_type": "code",
      "metadata": {
        "colab": {
          "base_uri": "https://localhost:8080/"
        },
        "id": "onQR1hYGdYwL",
        "outputId": "a779455f-6ddc-4e82-f5a4-f582f3af21fd"
      },
      "source": [
        "# Podemos definir uma lista personalizada de índices, que podem ser de qualquer tipo de dado, letras ou números:\n",
        "indices = [1, 2, 3, 4, 5, 6]\n",
        "\n",
        "nomes = ['Amanda', 'Ferreira', 'Gomes', 'Tauriel', 'Ferreira', 'Gomes']\n",
        "\n",
        "data3 = pd.Series(data = nomes, \n",
        "                  index = indices)\n",
        "\n",
        "print(data3)"
      ],
      "execution_count": 7,
      "outputs": [
        {
          "output_type": "stream",
          "name": "stdout",
          "text": [
            "1      Amanda\n",
            "2    Ferreira\n",
            "3       Gomes\n",
            "4     Tauriel\n",
            "5    Ferreira\n",
            "6       Gomes\n",
            "dtype: object\n"
          ]
        }
      ]
    },
    {
      "cell_type": "code",
      "metadata": {
        "id": "Z9IjHp7TwadF"
      },
      "source": [
        "# a biblioteca pandas possui fácil integração com outras bibliotecas. \n",
        "# importa-se a biblioteca numpy, para integrá-la à biblioteca pandas.\n",
        "import numpy as np"
      ],
      "execution_count": 8,
      "outputs": []
    },
    {
      "cell_type": "code",
      "metadata": {
        "colab": {
          "base_uri": "https://localhost:8080/"
        },
        "id": "D-K1UkUjxm2W",
        "outputId": "9ea5c139-a3ef-4d6b-c962-f2474a32ec01"
      },
      "source": [
        "# a variável nomes recebe um array numpy, o qual possui elementos do tipo string.\n",
        "nomes = np.array(['Tauriel', 'Joaquim', 'Theodoro', 'Kiara', 'Bolinha', 'Mel'])\n",
        "\n",
        "# transforma-se o array nomes em uma série e atribui-se à variável data4 essa serie.\n",
        "data4 = pd.Series(data = nomes, index = [1,2,3,4,5,6])\n",
        "\n",
        "print(data4)"
      ],
      "execution_count": 9,
      "outputs": [
        {
          "output_type": "stream",
          "name": "stdout",
          "text": [
            "1     Tauriel\n",
            "2     Joaquim\n",
            "3    Theodoro\n",
            "4       Kiara\n",
            "5     Bolinha\n",
            "6         Mel\n",
            "dtype: object\n"
          ]
        }
      ]
    },
    {
      "cell_type": "markdown",
      "metadata": {
        "id": "Dv7d0hlV0a3E"
      },
      "source": [
        "## Palavras reservadas também podem ser incorporadas às series e aos dataframes."
      ]
    },
    {
      "cell_type": "code",
      "metadata": {
        "colab": {
          "base_uri": "https://localhost:8080/"
        },
        "id": "5TG1oUGf0nkf",
        "outputId": "b4097122-c298-432c-f516-aeac03c56a93"
      },
      "source": [
        "funcoes = [input, print]\n",
        "\n",
        "data5 = pd.Series(data = funcoes)\n",
        "\n",
        "print(data5)"
      ],
      "execution_count": 10,
      "outputs": [
        {
          "output_type": "stream",
          "name": "stdout",
          "text": [
            "0    <bound method Kernel.raw_input of <google.cola...\n",
            "1                            <built-in function print>\n",
            "dtype: object\n"
          ]
        }
      ]
    },
    {
      "cell_type": "code",
      "metadata": {
        "colab": {
          "base_uri": "https://localhost:8080/"
        },
        "id": "gR7BGTVB1c0I",
        "outputId": "ee96d56b-69ca-4a7e-b09b-4102a6965b0f"
      },
      "source": [
        "# pode-se atribuir aos parâmetros da função pd.Series() ou de pd.DataFrame() funções também.\n",
        "\n",
        "paises = ['Brasil', 'Argentina', 'Turquia', 'Itália', 'Inglaterra']\n",
        "\n",
        "# a função arange() da biblioteca numpy é atribuída ao parâmetro index. Deste modo, os índices serão gerados por ela\n",
        "# index = np.arange(a,b) => index = [a, .., b-1]\n",
        "data6 = pd.Series(data = paises, index = np.arange(1,6))\n",
        "\n",
        "print(data.index) # verifica o tamanho de uma série, que é definido a partir de seu índice.\n",
        "\n",
        "print(data6)\n",
        "\n",
        "print(data6.index)"
      ],
      "execution_count": 11,
      "outputs": [
        {
          "output_type": "stream",
          "name": "stdout",
          "text": [
            "RangeIndex(start=0, stop=3, step=1)\n",
            "1        Brasil\n",
            "2     Argentina\n",
            "3       Turquia\n",
            "4        Itália\n",
            "5    Inglaterra\n",
            "dtype: object\n",
            "Int64Index([1, 2, 3, 4, 5], dtype='int64')\n"
          ]
        }
      ]
    },
    {
      "cell_type": "markdown",
      "metadata": {
        "id": "S9Q2p2gMDuLw"
      },
      "source": [
        "## Criando uma serie a partir de um dicionário."
      ]
    },
    {
      "cell_type": "code",
      "metadata": {
        "colab": {
          "base_uri": "https://localhost:8080/"
        },
        "id": "kylAowS3DzXJ",
        "outputId": "f2d7cdde-fde0-44c7-dfb2-76affc059616"
      },
      "source": [
        "dictionary = {\n",
        "    'Nome': 'Amanda', \n",
        "    'Idade': 23, \n",
        "    'Altura': 1.68\n",
        "    }\n",
        "\n",
        "serie_dict = pd.Series(dictionary)\n",
        "\n",
        "# os elementos ficam dispostos de maneira que os cabeçalhos fiquem horizontais em relação aos registros. Os índices passam a ser os dados da chave do dicionário.\n",
        "print(serie_dict)\n"
      ],
      "execution_count": 12,
      "outputs": [
        {
          "output_type": "stream",
          "name": "stdout",
          "text": [
            "Nome      Amanda\n",
            "Idade         23\n",
            "Altura      1.68\n",
            "dtype: object\n"
          ]
        }
      ]
    },
    {
      "cell_type": "code",
      "metadata": {
        "colab": {
          "base_uri": "https://localhost:8080/"
        },
        "id": "OYHmTs6TGDDa",
        "outputId": "72bfa50d-abfb-4fdb-c5b0-41e736f2af66"
      },
      "source": [
        "print('Primeiro Trimestre (meses): ')\n",
        "\n",
        "meses = {\n",
        "    1: 'Janeiro', \n",
        "    2: 'Fevereiro', \n",
        "    3: 'Março'\n",
        "    }\n",
        "\n",
        "serie_meses = pd.Series(data = meses)\n",
        "\n",
        "print(serie_meses)\n",
        "\n",
        "# usando um dicionário como fonte de dados, a conversão das chaves em índice se torna um processo natural."
      ],
      "execution_count": 13,
      "outputs": [
        {
          "output_type": "stream",
          "name": "stdout",
          "text": [
            "Primeiro Trimestre (meses): \n",
            "1      Janeiro\n",
            "2    Fevereiro\n",
            "3        Março\n",
            "dtype: object\n"
          ]
        }
      ]
    },
    {
      "cell_type": "markdown",
      "metadata": {
        "id": "D6zf8eDYINxC"
      },
      "source": [
        "## Unindo elementos de duas series."
      ]
    },
    {
      "cell_type": "code",
      "metadata": {
        "colab": {
          "base_uri": "https://localhost:8080/"
        },
        "id": "HFDQkMMhIT9W",
        "outputId": "5240865b-e1cc-4c6f-b230-e31441864447"
      },
      "source": [
        "cliente_1 = [3, 5, 6]\n",
        "cliente_2 = [12, 15, 18]\n",
        "\n",
        "data_1 = pd.Series(data = cliente_1, index = np.arange(1,4))\n",
        "data_2 = pd.Series(data = cliente_2, index = np.arange(1,4))\n",
        "\n",
        "# os elementos correspondentes são somados, isso se refere a qualquer tipo de dado, inclusive texto.\n",
        "data_3 = data_1 + data_2\n",
        "\n",
        "print(data_3)\n"
      ],
      "execution_count": 14,
      "outputs": [
        {
          "output_type": "stream",
          "name": "stdout",
          "text": [
            "1    15\n",
            "2    20\n",
            "3    24\n",
            "dtype: int64\n"
          ]
        }
      ]
    },
    {
      "cell_type": "markdown",
      "metadata": {
        "id": "ow13j3SxK5Na"
      },
      "source": [
        "# **2.1.   CONCLUSÃO**\n",
        "## Logo, devemos nos ater ao fato de que series são dados bastante básicos, rápidos e eficientes para certas situações, mas para outras o encaixe não é perfefito, pois possui algumas restrições quando se trata de interação de dados de séries distintas."
      ]
    },
    {
      "cell_type": "markdown",
      "metadata": {
        "id": "i_3nZcx8LsKZ"
      },
      "source": [
        "#**3.  DATAFRAMES:**\n",
        "## DataFrame é a principal estrutura de dados da biblioteca pandas. É constituído por series. Digamos que as series são o vetor e o dataframe é a matriz, tomando por base a álgebra linear. Tudo o que se aplica a series pode ser aplicado a DataFrames.\n",
        "\n",
        "## CRIANDO UM DATAFRAME."
      ]
    },
    {
      "cell_type": "code",
      "metadata": {
        "id": "itgtPjBwPTp2",
        "colab": {
          "base_uri": "https://localhost:8080/"
        },
        "outputId": "36853d75-9e3d-466d-ba86-b65ad3e60be4"
      },
      "source": [
        "base = {\n",
        "    'NOME': ['Amanda', 'Tauriel', 'Joaquim', 'Théo', 'Bolinha', 'Kiara', 'Mel'],\n",
        "    'TELEFONE': ['889927', '885587', '895587', '895587', '659895', '336441', '598971'],  \n",
        "    'E-MAIL': ['amanda@gmail.com', 'tauriel@gmail.com', 'joaquim@gmail.com', 'theo@gmail.com', 'bolinha@gmail.com', 'kiara@gmail.com', 'mel@gmail.com']\n",
        "        }\n",
        "\n",
        "data1 = pd.DataFrame(data = base, index = np.arange(1,8))\n",
        "\n",
        "print(data1)\n",
        "print('\\n')\n",
        "print(data1.head(3))"
      ],
      "execution_count": 15,
      "outputs": [
        {
          "output_type": "stream",
          "name": "stdout",
          "text": [
            "      NOME TELEFONE             E-MAIL\n",
            "1   Amanda   889927   amanda@gmail.com\n",
            "2  Tauriel   885587  tauriel@gmail.com\n",
            "3  Joaquim   895587  joaquim@gmail.com\n",
            "4     Théo   895587     theo@gmail.com\n",
            "5  Bolinha   659895  bolinha@gmail.com\n",
            "6    Kiara   336441    kiara@gmail.com\n",
            "7      Mel   598971      mel@gmail.com\n",
            "\n",
            "\n",
            "      NOME TELEFONE             E-MAIL\n",
            "1   Amanda   889927   amanda@gmail.com\n",
            "2  Tauriel   885587  tauriel@gmail.com\n",
            "3  Joaquim   895587  joaquim@gmail.com\n"
          ]
        }
      ]
    },
    {
      "cell_type": "markdown",
      "metadata": {
        "id": "vsTijjX5ozxa"
      },
      "source": [
        "## -> DataFrames são estruturas de dados geralmente criadas a partir de dicionários, trazendo-nos dados organizados de modo semelhante às planilhas do excel. Porém, podemos criar DataFrames a partir de outros tipos de dados, como arquivos  .csv ou .json, por exemplo. Percebe-se que assim como as series os dataframes têm mapeamento, o qual facilita a manipulação desses dados sem a necessidade de ferramentas externas."
      ]
    },
    {
      "cell_type": "code",
      "metadata": {
        "colab": {
          "base_uri": "https://localhost:8080/"
        },
        "id": "7AsaLCXLpPXn",
        "outputId": "6a805122-6f9b-46ad-ec6e-010654a01d50"
      },
      "source": [
        "# O método info gera um resumo do dataframe, tendo em vista que essa base de dados está associada a uma variável.\n",
        "print(data1.info())\n",
        "\n",
        "# O método describe é outra forma de verificação rápida dos dados do dataframe.\n",
        "print(data1.describe())"
      ],
      "execution_count": 63,
      "outputs": [
        {
          "output_type": "stream",
          "name": "stdout",
          "text": [
            "<class 'pandas.core.frame.DataFrame'>\n",
            "Int64Index: 7 entries, 1 to 7\n",
            "Data columns (total 3 columns):\n",
            " #   Column    Non-Null Count  Dtype \n",
            "---  ------    --------------  ----- \n",
            " 0   NOME      7 non-null      object\n",
            " 1   TELEFONE  7 non-null      object\n",
            " 2   E-MAIL    7 non-null      object\n",
            "dtypes: object(3)\n",
            "memory usage: 224.0+ bytes\n",
            "None\n",
            "          NOME TELEFONE            E-MAIL\n",
            "count        7        7                 7\n",
            "unique       7        6                 7\n",
            "top     Amanda   895587  amanda@gmail.com\n",
            "freq         1        2                 1\n"
          ]
        }
      ]
    },
    {
      "cell_type": "markdown",
      "metadata": {
        "id": "8iG9i8f3yb37"
      },
      "source": [
        "## Explorando o parâmetro columns"
      ]
    },
    {
      "cell_type": "code",
      "metadata": {
        "colab": {
          "base_uri": "https://localhost:8080/"
        },
        "id": "TI3SyA03zIgW",
        "outputId": "b05a95c7-d6d0-41ad-b1c6-cd07b4b8f6c3"
      },
      "source": [
        "# No parâmetro columns especificamos que referências passaremos aos nossos cabeçalhos do DataFrame. \n",
        "# Como um DataFrame é uma espécie de array multidimensional, pode ter infinitas colunas.\n",
        "\n",
        "print(data1.columns)  # imprime as colunas do DataFrame data1.\n",
        "\n",
        "print(data1.index)    # retorna os índices dos registros.\n",
        "\n",
        "# com os dados do dataframe corretamente mapeados, ou seja, tanto as linhas quanto as colunas identificadas, podemos fazer uma espécie de busca no estilo batalha naval, para identificar onde estão os dados.\n",
        "print(data1['NOME'])\n",
        "print('\\n')\n",
        "print(data1['E-MAIL'])  # damos à coluna o nome de serie, pois ela é de fato, tendo em vista que cada coluna do dataframe é uma serie.\n",
        "print(data1['TELEFONE'])\n",
        "print(data1['NOME'][1])\n"
      ],
      "execution_count": 64,
      "outputs": [
        {
          "output_type": "stream",
          "name": "stdout",
          "text": [
            "Index(['NOME', 'TELEFONE', 'E-MAIL'], dtype='object')\n",
            "Int64Index([1, 2, 3, 4, 5, 6, 7], dtype='int64')\n",
            "1     Amanda\n",
            "2    Tauriel\n",
            "3    Joaquim\n",
            "4       Théo\n",
            "5    Bolinha\n",
            "6      Kiara\n",
            "7        Mel\n",
            "Name: NOME, dtype: object\n",
            "\n",
            "\n",
            "1     amanda@gmail.com\n",
            "2    tauriel@gmail.com\n",
            "3    joaquim@gmail.com\n",
            "4       theo@gmail.com\n",
            "5    bolinha@gmail.com\n",
            "6      kiara@gmail.com\n",
            "7        mel@gmail.com\n",
            "Name: E-MAIL, dtype: object\n",
            "1    889927\n",
            "2    885587\n",
            "3    895587\n",
            "4    895587\n",
            "5    659895\n",
            "6    336441\n",
            "7    598971\n",
            "Name: TELEFONE, dtype: object\n",
            "Amanda\n"
          ]
        }
      ]
    },
    {
      "cell_type": "code",
      "metadata": {
        "colab": {
          "base_uri": "https://localhost:8080/"
        },
        "id": "5PTG3GcgCG4N",
        "outputId": "4f1c63ca-e457-429c-9f4c-0626fdd68755"
      },
      "source": [
        "# podemos extrair os dados de uma coluna também referenciando apenas o nome da coluna:\n",
        "\n",
        "print(data1.NOME)\n",
        "\n",
        "# logo: data1.NOME = data1['NOME']\n",
        "# data1.NOME é o método nativo, porém é limitado, pois permite a extração de apenas uma coluna por vez.\n",
        "# data1['NOME', 'TELEFONE'] permite a extração de mais de uma coluna por vez."
      ],
      "execution_count": 73,
      "outputs": [
        {
          "output_type": "stream",
          "name": "stdout",
          "text": [
            "1     Amanda\n",
            "2    Tauriel\n",
            "3    Joaquim\n",
            "4       Théo\n",
            "5    Bolinha\n",
            "6      Kiara\n",
            "7        Mel\n",
            "Name: NOME, dtype: object\n"
          ]
        }
      ]
    },
    {
      "cell_type": "markdown",
      "metadata": {
        "id": "bwohcBnxDr6z"
      },
      "source": [
        "### Criando colunas manualmente:\n"
      ]
    },
    {
      "cell_type": "code",
      "metadata": {
        "colab": {
          "base_uri": "https://localhost:8080/"
        },
        "id": "PIWeP_JWEBsy",
        "outputId": "adc03d6e-1819-4932-d38f-29df5ea86934"
      },
      "source": [
        "data1['SEXO'] = ['F', 'F', 'M', 'M', 'F', 'F', 'F']\n",
        "\n",
        "print(data1)"
      ],
      "execution_count": 66,
      "outputs": [
        {
          "output_type": "stream",
          "name": "stdout",
          "text": [
            "      NOME TELEFONE             E-MAIL SEXO\n",
            "1   Amanda   889927   amanda@gmail.com    F\n",
            "2  Tauriel   885587  tauriel@gmail.com    F\n",
            "3  Joaquim   895587  joaquim@gmail.com    M\n",
            "4     Théo   895587     theo@gmail.com    M\n",
            "5  Bolinha   659895  bolinha@gmail.com    F\n",
            "6    Kiara   336441    kiara@gmail.com    F\n",
            "7      Mel   598971      mel@gmail.com    F\n"
          ]
        }
      ]
    },
    {
      "cell_type": "markdown",
      "metadata": {
        "id": "8fFFE-x2FRoo"
      },
      "source": [
        "### Removendo colunas manualmente:"
      ]
    },
    {
      "cell_type": "code",
      "metadata": {
        "id": "43VKycVFFVmB"
      },
      "source": [
        "# existem diversas formas de remover uma coluna do dataframe, uma delas é aplicar o método drop().\n",
        "\n",
        "data1 = data1.drop('TELEFONE', axis=1, inplace=True) # remove todos os elementos da coluna TELEFFONE, por isso utiliza-se o axis = 1, para que não se remova os elementos da linha apenas.\n",
        "\n",
        "# o parâmetro inplace torna a exclusão permanente, caso contrário, sem o uso do inplace, os dados ficariam presentes, mas sem referências.\n"
      ],
      "execution_count": 67,
      "outputs": []
    },
    {
      "cell_type": "code",
      "metadata": {
        "colab": {
          "base_uri": "https://localhost:8080/"
        },
        "id": "tWrEuaclGGcw",
        "outputId": "7e37736f-e02c-47cc-ae24-507524810ed5"
      },
      "source": [
        "print(data1) # exibe-se o dataframe data1 com a coluna telefone devidamente removida."
      ],
      "execution_count": 68,
      "outputs": [
        {
          "output_type": "stream",
          "name": "stdout",
          "text": [
            "None\n"
          ]
        }
      ]
    },
    {
      "cell_type": "code",
      "metadata": {
        "colab": {
          "base_uri": "https://localhost:8080/"
        },
        "id": "slJzCJagHD3c",
        "outputId": "89df1904-fe7a-422a-ced1-92c42ee373e6"
      },
      "source": [
        "# outra forma de remover uma coluna é utilizar a função do sistema 'del'\n",
        "\n",
        "del data1['E-MAIL'] # trata-se de uma função do sistema, logo, a exclusão é permanente.\n",
        "\n",
        "print(data1)"
      ],
      "execution_count": 74,
      "outputs": [
        {
          "output_type": "stream",
          "name": "stdout",
          "text": [
            "      NOME TELEFONE\n",
            "1   Amanda   889927\n",
            "2  Tauriel   885587\n",
            "3  Joaquim   895587\n",
            "4     Théo   895587\n",
            "5  Bolinha   659895\n",
            "6    Kiara   336441\n",
            "7      Mel   598971\n"
          ]
        }
      ]
    },
    {
      "cell_type": "markdown",
      "metadata": {
        "id": "FJkR2OVCJNOt"
      },
      "source": [
        "### Ordenando os elementos de uma coluna:"
      ]
    },
    {
      "cell_type": "code",
      "metadata": {
        "colab": {
          "base_uri": "https://localhost:8080/"
        },
        "id": "bNaxd0pVJShw",
        "outputId": "a4146fb9-e3bb-4da9-89a7-756b76e3337f"
      },
      "source": [
        "data1.sort_values(by='NOME', inplace=True) # ordenação ascendente por nome\n",
        "\n",
        "print(data1)"
      ],
      "execution_count": 75,
      "outputs": [
        {
          "output_type": "stream",
          "name": "stdout",
          "text": [
            "      NOME TELEFONE\n",
            "1   Amanda   889927\n",
            "5  Bolinha   659895\n",
            "3  Joaquim   895587\n",
            "6    Kiara   336441\n",
            "7      Mel   598971\n",
            "2  Tauriel   885587\n",
            "4     Théo   895587\n"
          ]
        }
      ]
    },
    {
      "cell_type": "code",
      "metadata": {
        "colab": {
          "base_uri": "https://localhost:8080/"
        },
        "id": "27vOvp5hJi4F",
        "outputId": "1c7abb31-d3ed-4f44-ae93-5d23bcb85e16"
      },
      "source": [
        "data1.sort_values(by='TELEFONE', inplace=True) # ordenação ascendente (padrão) por telefone\n",
        "print(data1)"
      ],
      "execution_count": 77,
      "outputs": [
        {
          "output_type": "stream",
          "name": "stdout",
          "text": [
            "      NOME TELEFONE\n",
            "6    Kiara   336441\n",
            "7      Mel   598971\n",
            "5  Bolinha   659895\n",
            "2  Tauriel   885587\n",
            "1   Amanda   889927\n",
            "3  Joaquim   895587\n",
            "4     Théo   895587\n"
          ]
        }
      ]
    },
    {
      "cell_type": "code",
      "metadata": {
        "colab": {
          "base_uri": "https://localhost:8080/"
        },
        "id": "wkvl2j6xKfXe",
        "outputId": "b7703c84-1d04-44b4-b2cf-d97b5b1ea9c4"
      },
      "source": [
        "data1.sort_values(by='TELEFONE', ascending=False, inplace=True) # neste caso, é ordenado de forma descendente, já que no parâmetro ascending foi posto False.\n",
        "print(data1)"
      ],
      "execution_count": 78,
      "outputs": [
        {
          "output_type": "stream",
          "name": "stdout",
          "text": [
            "      NOME TELEFONE\n",
            "3  Joaquim   895587\n",
            "4     Théo   895587\n",
            "1   Amanda   889927\n",
            "2  Tauriel   885587\n",
            "5  Bolinha   659895\n",
            "7      Mel   598971\n",
            "6    Kiara   336441\n"
          ]
        }
      ]
    },
    {
      "cell_type": "markdown",
      "metadata": {
        "id": "5wQRkbemAkgL"
      },
      "source": [
        "## Método loc[]"
      ]
    },
    {
      "cell_type": "markdown",
      "metadata": {
        "id": "C-UA2EWa-qWB"
      },
      "source": [
        "## Extraindo dados de uma linha específica:"
      ]
    },
    {
      "cell_type": "code",
      "metadata": {
        "colab": {
          "base_uri": "https://localhost:8080/"
        },
        "id": "VGTNSQns-uEm",
        "outputId": "32600325-259f-49cf-e6d4-7308d05837b0"
      },
      "source": [
        "# utiliza-se o método loc() quando se quer imprimir um registro do dataframe, ou seja, quando se quer imprimir uma linha.\n",
        "# Esse método utiliza o índice da serie para localizar a linha em questão.\n",
        "print(data1.loc[2])"
      ],
      "execution_count": 18,
      "outputs": [
        {
          "output_type": "stream",
          "name": "stdout",
          "text": [
            "NOME                  Tauriel\n",
            "TELEFONE               885587\n",
            "E-MAIL      tauriel@gmail.com\n",
            "Name: 2, dtype: object\n"
          ]
        }
      ]
    },
    {
      "cell_type": "markdown",
      "metadata": {
        "id": "ZRN_LbMoAe2Z"
      },
      "source": [
        "## Extraindo dados de um registro específico:"
      ]
    },
    {
      "cell_type": "code",
      "metadata": {
        "colab": {
          "base_uri": "https://localhost:8080/"
        },
        "id": "JYqdAZ2GAiUd",
        "outputId": "89747de0-71b9-424d-cafb-7b61c63f1bcc"
      },
      "source": [
        "# a primeira referência está associada à linha e a segunda está associada à coluna. \n",
        "print(data1.loc[2, 'NOME']) # elemento da linha 2 da coluna 'NOME'"
      ],
      "execution_count": 19,
      "outputs": [
        {
          "output_type": "stream",
          "name": "stdout",
          "text": [
            "Tauriel\n"
          ]
        }
      ]
    }
  ]
}