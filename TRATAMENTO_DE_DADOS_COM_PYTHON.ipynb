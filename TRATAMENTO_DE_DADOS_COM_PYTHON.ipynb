{
  "nbformat": 4,
  "nbformat_minor": 0,
  "metadata": {
    "colab": {
      "name": "TRATAMENTO DE DADOS COM PYTHON.ipynb",
      "provenance": [],
      "collapsed_sections": [],
      "authorship_tag": "ABX9TyPZY/ZddW112VRyGa7Xb66G",
      "include_colab_link": true
    },
    "kernelspec": {
      "name": "python3",
      "display_name": "Python 3"
    },
    "language_info": {
      "name": "python"
    }
  },
  "cells": [
    {
      "cell_type": "markdown",
      "metadata": {
        "id": "view-in-github",
        "colab_type": "text"
      },
      "source": [
        "<a href=\"https://colab.research.google.com/github/AmandaFerreiraGomes/PythonDataScience/blob/main/TRATAMENTO_DE_DADOS_COM_PYTHON.ipynb\" target=\"_parent\"><img src=\"https://colab.research.google.com/assets/colab-badge.svg\" alt=\"Open In Colab\"/></a>"
      ]
    },
    {
      "cell_type": "markdown",
      "metadata": {
        "id": "z0DgFedjENNs"
      },
      "source": [
        "# **1.  INTRODUÇÃO:**"
      ]
    },
    {
      "cell_type": "markdown",
      "metadata": {
        "id": "uaVMHvHXs8YR"
      },
      "source": [
        "## ***A BIBLIOGRAFIA DESTE ESTUDO É A DE FERNANDO FELTRIN: TRATAMENTO DE DADOS COM PYTHON.***"
      ]
    },
    {
      "cell_type": "markdown",
      "metadata": {
        "id": "jD3dfR7a88DB"
      },
      "source": [
        "A biblioteca pandas foi criada especificamente para análise e manipulação de dados. Os dados que são tratados com essa biblioteca são essencialmente organizados em tabelas (linhas x colunas), as quais são indexadas e mapeadas seguindo um padrão. É, se não a melhor, uma das melhores bibliotecas para tratamento de dados."
      ]
    },
    {
      "cell_type": "code",
      "metadata": {
        "id": "Pz_8obTVs0aX"
      },
      "source": [
        "# Inicialmente, importa-se a biblioteca pandas com a sigla pd, para resumir e facilitar a codificação.\n",
        "import pandas as pd \n",
        "\n",
        "import numpy as np"
      ],
      "execution_count": 2,
      "outputs": []
    },
    {
      "cell_type": "markdown",
      "metadata": {
        "id": "92xogoFF93mg"
      },
      "source": [
        "# Tipos básicos de dados pandas: DataFrame e Series.\n",
        "\n",
        "## -> Series: equivale a um array unidimensional, o qual é mapeado e indexado, ou seja, possui índice próprio. Esse tipo de dado é capaz de aceitar qualquer tipo de dado python."
      ]
    },
    {
      "cell_type": "code",
      "metadata": {
        "colab": {
          "base_uri": "https://localhost:8080/"
        },
        "id": "CFYReHQjtuWP",
        "outputId": "697c8beb-0cd8-4a20-f240-e26a800f16dc"
      },
      "source": [
        "# Cria-se o vetor, em que são inseridos 19 elementos (números primos :).\n",
        "base = [2,3,5,7,11,13,17,19,23,29,31,37,41,43,47,51,53,57,59]\n",
        "\n",
        "# Converte-se o vetor em uma série, na qual os valores serão indexados.\n",
        "data = pd.Series(base)\n",
        "\n",
        "# Imprime-se a sequência de elementos com seus respectivos índices.\n",
        "print(f'Com series: \\n{data}')\n",
        "\n",
        "# Imprime-se os elementos do vetor, o qual não possui indexação, \n",
        "# ou seja, os elementos não têm um índice específico para localização.\n",
        "print(f'Sem series:')\n",
        "for i in base:\n",
        "  print(f'-> {i}')"
      ],
      "execution_count": 3,
      "outputs": [
        {
          "output_type": "stream",
          "name": "stdout",
          "text": [
            "Com series: \n",
            "0      2\n",
            "1      3\n",
            "2      5\n",
            "3      7\n",
            "4     11\n",
            "5     13\n",
            "6     17\n",
            "7     19\n",
            "8     23\n",
            "9     29\n",
            "10    31\n",
            "11    37\n",
            "12    41\n",
            "13    43\n",
            "14    47\n",
            "15    51\n",
            "16    53\n",
            "17    57\n",
            "18    59\n",
            "dtype: int64\n",
            "Sem series:\n",
            "-> 2\n",
            "-> 3\n",
            "-> 5\n",
            "-> 7\n",
            "-> 11\n",
            "-> 13\n",
            "-> 17\n",
            "-> 19\n",
            "-> 23\n",
            "-> 29\n",
            "-> 31\n",
            "-> 37\n",
            "-> 41\n",
            "-> 43\n",
            "-> 47\n",
            "-> 51\n",
            "-> 53\n",
            "-> 57\n",
            "-> 59\n"
          ]
        }
      ]
    },
    {
      "cell_type": "markdown",
      "metadata": {
        "id": "k3HitfC9-t4a"
      },
      "source": [
        "## -> DataFrame: equivale a um array multidimensional. É formado por um conjunto de series.\n"
      ]
    },
    {
      "cell_type": "code",
      "metadata": {
        "colab": {
          "base_uri": "https://localhost:8080/"
        },
        "id": "ks-mFwT8--r5",
        "outputId": "42cc1669-e624-4495-da8f-162995808402"
      },
      "source": [
        "base = {\n",
        "    'NOME': ['Joaquim', 'Tauriel', 'Kiara', 'Théo', 'Mel', 'Bolinha'],\n",
        "    'TELEFONE': [88992515587, 88992515588, 88992515589, 88992515590, 88992515591, 88992515592],\n",
        "    'E-MAIL': ['motinha@hotmail.com', 'tata@hotmail.com', 'kiara@hotmail.com', 'theodoro@gmail.com', 'melanie@gmail.com', 'lilball@gmail.com'],\n",
        "    'CIDADE': ['Ibiapina', 'Ibiapina', 'Ibiapina', 'Ibiapina', 'Ibiapina', 'Sobral'],\n",
        "    'UF': ['CE', 'CE', 'CE', 'CE', 'CE', 'CE']\n",
        "        }\n",
        "\n",
        "data = pd.DataFrame(base)\n",
        "\n",
        "print(data)"
      ],
      "execution_count": 4,
      "outputs": [
        {
          "output_type": "stream",
          "name": "stdout",
          "text": [
            "      NOME     TELEFONE               E-MAIL    CIDADE  UF\n",
            "0  Joaquim  88992515587  motinha@hotmail.com  Ibiapina  CE\n",
            "1  Tauriel  88992515588     tata@hotmail.com  Ibiapina  CE\n",
            "2    Kiara  88992515589    kiara@hotmail.com  Ibiapina  CE\n",
            "3     Théo  88992515590   theodoro@gmail.com  Ibiapina  CE\n",
            "4      Mel  88992515591    melanie@gmail.com  Ibiapina  CE\n",
            "5  Bolinha  88992515592    lilball@gmail.com    Sobral  CE\n"
          ]
        }
      ]
    },
    {
      "cell_type": "markdown",
      "metadata": {
        "id": "8qpM9J4lEZlO"
      },
      "source": [
        "# **2.  SERIES:**\n",
        "## CRIANDO UMA SERIE."
      ]
    },
    {
      "cell_type": "code",
      "metadata": {
        "colab": {
          "base_uri": "https://localhost:8080/"
        },
        "id": "4jysH45cO27c",
        "outputId": "8577ba55-8152-47b7-eb6a-b9baaf8586a3"
      },
      "source": [
        "# Percebe-se que com o uso de series, podemos indexar os elementos do array, que no caso é unidimensional.\n",
        "# 1ª forma de criar uma série, com o método construtor mais básico, o qual recebe uma lista de elementos que será convertida em série.\n",
        "base = ['Amanda', 'Ferreira', 'Gomes']\n",
        "\n",
        "data = pd.Series(base)\n",
        "\n",
        "# 2ª orma de criar uma série: data = pd.Series(['Amanda', 'Ferreira', 'Gomes'])\n",
        "\n",
        "j = 0\n",
        "\n",
        "for i in data:\n",
        "  if j == 0:\n",
        "    print(f'Primeiro Nome: {i}')\n",
        "    j = j + 1\n",
        "  elif j == 1:\n",
        "    print(f'Sobrenome 1: {i}')\n",
        "    j = j + 1\n",
        "  else:\n",
        "    print(f'Sobrenome 2: {i}')"
      ],
      "execution_count": 5,
      "outputs": [
        {
          "output_type": "stream",
          "name": "stdout",
          "text": [
            "Primeiro Nome: Amanda\n",
            "Sobrenome 1: Ferreira\n",
            "Sobrenome 2: Gomes\n"
          ]
        }
      ]
    },
    {
      "cell_type": "code",
      "metadata": {
        "colab": {
          "base_uri": "https://localhost:8080/"
        },
        "id": "LFAxx-nUT8HM",
        "outputId": "c33b4cb4-619a-4a26-e22f-f9c024e035ef"
      },
      "source": [
        "# Visualizando o cabeçalho (os 5 primeiros elementos), para tal, utiliza-se do método head():\n",
        "\n",
        "data.head()\n",
        "\n",
        "# se quiser delimitar o número de exibições:\n",
        "\n",
        "data.head(2)\n",
        "\n",
        "# Exibe-se o tipo de dado de 'data':\n",
        "\n",
        "print(type(data))\n",
        "\n",
        "# o método head() permite que tenhamos uma visualização de uma certa amostra de dados, que pode ser de qualquer tamanho, mas o padrão é que se exiba 5 elementos."
      ],
      "execution_count": 6,
      "outputs": [
        {
          "output_type": "stream",
          "name": "stdout",
          "text": [
            "<class 'pandas.core.series.Series'>\n"
          ]
        }
      ]
    },
    {
      "cell_type": "code",
      "metadata": {
        "colab": {
          "base_uri": "https://localhost:8080/"
        },
        "id": "3zYVfg6WXAKn",
        "outputId": "8c97d961-bbc6-4e9d-c585-6930fd323b03"
      },
      "source": [
        "nomes = ['Amanda', 'Ferreira', 'Gomes', 'Tauriel', 'Ferreira', 'Gomes']\n",
        "\n",
        "data2 = pd.Series(data = nomes)\n",
        "\n",
        "# pode-se fazer dentro dos parâmetros de series a atribuição da lista à variável que vai receber o array unidimensional serie.\n",
        "# data2 = pd.Series(nomes) é a mesma vibe de data2 = pd.Series(data = nomes). \n",
        "# Isso ocorre pelo fato de que por padrão o primeiro parâmetro da função é a origem dos dados, então, caso hajam mais parâmetros dentro da função, torna-se necessária a atribuição.\n",
        "print(data2)"
      ],
      "execution_count": 7,
      "outputs": [
        {
          "output_type": "stream",
          "name": "stdout",
          "text": [
            "0      Amanda\n",
            "1    Ferreira\n",
            "2       Gomes\n",
            "3     Tauriel\n",
            "4    Ferreira\n",
            "5       Gomes\n",
            "dtype: object\n"
          ]
        }
      ]
    },
    {
      "cell_type": "code",
      "metadata": {
        "colab": {
          "base_uri": "https://localhost:8080/"
        },
        "id": "onQR1hYGdYwL",
        "outputId": "e0a24e62-f066-4221-b66a-b5782112152c"
      },
      "source": [
        "# Podemos definir uma lista personalizada de índices, que podem ser de qualquer tipo de dado, letras ou números:\n",
        "indices = [1, 2, 3, 4, 5, 6]\n",
        "\n",
        "nomes = ['Amanda', 'Ferreira', 'Gomes', 'Tauriel', 'Ferreira', 'Gomes']\n",
        "\n",
        "data3 = pd.Series(data = nomes, \n",
        "                  index = indices)\n",
        "\n",
        "print(data3)"
      ],
      "execution_count": 8,
      "outputs": [
        {
          "output_type": "stream",
          "name": "stdout",
          "text": [
            "1      Amanda\n",
            "2    Ferreira\n",
            "3       Gomes\n",
            "4     Tauriel\n",
            "5    Ferreira\n",
            "6       Gomes\n",
            "dtype: object\n"
          ]
        }
      ]
    },
    {
      "cell_type": "code",
      "metadata": {
        "id": "Z9IjHp7TwadF"
      },
      "source": [
        "# a biblioteca pandas possui fácil integração com outras bibliotecas. \n",
        "# importa-se a biblioteca numpy, para integrá-la à biblioteca pandas.\n",
        "import numpy as np"
      ],
      "execution_count": 9,
      "outputs": []
    },
    {
      "cell_type": "code",
      "metadata": {
        "colab": {
          "base_uri": "https://localhost:8080/"
        },
        "id": "D-K1UkUjxm2W",
        "outputId": "26d19811-84cb-4138-e234-cc10ad8741b6"
      },
      "source": [
        "# a variável nomes recebe um array numpy, o qual possui elementos do tipo string.\n",
        "nomes = np.array(['Tauriel', 'Joaquim', 'Theodoro', 'Kiara', 'Bolinha', 'Mel'])\n",
        "\n",
        "# transforma-se o array nomes em uma série e atribui-se à variável data4 essa serie.\n",
        "data4 = pd.Series(data = nomes, index = [1,2,3,4,5,6])\n",
        "\n",
        "print(data4)"
      ],
      "execution_count": 10,
      "outputs": [
        {
          "output_type": "stream",
          "name": "stdout",
          "text": [
            "1     Tauriel\n",
            "2     Joaquim\n",
            "3    Theodoro\n",
            "4       Kiara\n",
            "5     Bolinha\n",
            "6         Mel\n",
            "dtype: object\n"
          ]
        }
      ]
    },
    {
      "cell_type": "markdown",
      "metadata": {
        "id": "Dv7d0hlV0a3E"
      },
      "source": [
        "## Palavras reservadas também podem ser incorporadas às series e aos dataframes."
      ]
    },
    {
      "cell_type": "code",
      "metadata": {
        "colab": {
          "base_uri": "https://localhost:8080/"
        },
        "id": "5TG1oUGf0nkf",
        "outputId": "95e9d4eb-5b9b-4f5f-ef77-d30a71ccc802"
      },
      "source": [
        "funcoes = [input, print]\n",
        "\n",
        "data5 = pd.Series(data = funcoes)\n",
        "\n",
        "print(data5)"
      ],
      "execution_count": 11,
      "outputs": [
        {
          "output_type": "stream",
          "name": "stdout",
          "text": [
            "0    <bound method Kernel.raw_input of <google.cola...\n",
            "1                            <built-in function print>\n",
            "dtype: object\n"
          ]
        }
      ]
    },
    {
      "cell_type": "code",
      "metadata": {
        "colab": {
          "base_uri": "https://localhost:8080/"
        },
        "id": "gR7BGTVB1c0I",
        "outputId": "011ba90f-6e00-47d0-871e-997a71615ada"
      },
      "source": [
        "# pode-se atribuir aos parâmetros da função pd.Series() ou de pd.DataFrame() funções também.\n",
        "\n",
        "paises = ['Brasil', 'Argentina', 'Turquia', 'Itália', 'Inglaterra']\n",
        "\n",
        "# a função arange() da biblioteca numpy é atribuída ao parâmetro index. Deste modo, os índices serão gerados por ela\n",
        "# index = np.arange(a,b) => index = [a, .., b-1]\n",
        "data6 = pd.Series(data = paises, index = np.arange(1,6))\n",
        "\n",
        "print(data.index) # verifica o tamanho de uma série, que é definido a partir de seu índice.\n",
        "\n",
        "print(data6)\n",
        "\n",
        "print(data6.index)"
      ],
      "execution_count": 12,
      "outputs": [
        {
          "output_type": "stream",
          "name": "stdout",
          "text": [
            "RangeIndex(start=0, stop=3, step=1)\n",
            "1        Brasil\n",
            "2     Argentina\n",
            "3       Turquia\n",
            "4        Itália\n",
            "5    Inglaterra\n",
            "dtype: object\n",
            "Int64Index([1, 2, 3, 4, 5], dtype='int64')\n"
          ]
        }
      ]
    },
    {
      "cell_type": "markdown",
      "metadata": {
        "id": "S9Q2p2gMDuLw"
      },
      "source": [
        "## Criando uma serie a partir de um dicionário."
      ]
    },
    {
      "cell_type": "code",
      "metadata": {
        "colab": {
          "base_uri": "https://localhost:8080/"
        },
        "id": "kylAowS3DzXJ",
        "outputId": "41292ea3-f387-43a8-ee9e-d7c051396d40"
      },
      "source": [
        "dictionary = {\n",
        "    'Nome': 'Amanda', \n",
        "    'Idade': 23, \n",
        "    'Altura': 1.68\n",
        "    }\n",
        "\n",
        "serie_dict = pd.Series(dictionary)\n",
        "\n",
        "# os elementos ficam dispostos de maneira que os cabeçalhos fiquem horizontais em relação aos registros. Os índices passam a ser os dados da chave do dicionário.\n",
        "print(serie_dict)\n"
      ],
      "execution_count": 13,
      "outputs": [
        {
          "output_type": "stream",
          "name": "stdout",
          "text": [
            "Nome      Amanda\n",
            "Idade         23\n",
            "Altura      1.68\n",
            "dtype: object\n"
          ]
        }
      ]
    },
    {
      "cell_type": "code",
      "metadata": {
        "colab": {
          "base_uri": "https://localhost:8080/"
        },
        "id": "OYHmTs6TGDDa",
        "outputId": "a1cb6f60-c6b7-4a34-e0d1-7521ca2d720e"
      },
      "source": [
        "print('Primeiro Trimestre (meses): ')\n",
        "\n",
        "meses = {\n",
        "    1: 'Janeiro', \n",
        "    2: 'Fevereiro', \n",
        "    3: 'Março'\n",
        "    }\n",
        "\n",
        "serie_meses = pd.Series(data = meses)\n",
        "\n",
        "print(serie_meses)\n",
        "\n",
        "# usando um dicionário como fonte de dados, a conversão das chaves em índice se torna um processo natural."
      ],
      "execution_count": 14,
      "outputs": [
        {
          "output_type": "stream",
          "name": "stdout",
          "text": [
            "Primeiro Trimestre (meses): \n",
            "1      Janeiro\n",
            "2    Fevereiro\n",
            "3        Março\n",
            "dtype: object\n"
          ]
        }
      ]
    },
    {
      "cell_type": "markdown",
      "metadata": {
        "id": "D6zf8eDYINxC"
      },
      "source": [
        "## Unindo elementos de duas series."
      ]
    },
    {
      "cell_type": "code",
      "metadata": {
        "colab": {
          "base_uri": "https://localhost:8080/"
        },
        "id": "HFDQkMMhIT9W",
        "outputId": "9afe1a5f-4093-4464-cc3e-70bede9168d0"
      },
      "source": [
        "cliente_1 = [3, 5, 6]\n",
        "cliente_2 = [12, 15, 18]\n",
        "\n",
        "data_1 = pd.Series(data = cliente_1, index = np.arange(1,4))\n",
        "data_2 = pd.Series(data = cliente_2, index = np.arange(1,4))\n",
        "\n",
        "# os elementos correspondentes são somados, isso se refere a qualquer tipo de dado, inclusive texto.\n",
        "data_3 = data_1 + data_2\n",
        "\n",
        "print(data_3)\n"
      ],
      "execution_count": 15,
      "outputs": [
        {
          "output_type": "stream",
          "name": "stdout",
          "text": [
            "1    15\n",
            "2    20\n",
            "3    24\n",
            "dtype: int64\n"
          ]
        }
      ]
    },
    {
      "cell_type": "markdown",
      "metadata": {
        "id": "ow13j3SxK5Na"
      },
      "source": [
        "# **2.1.   CONCLUSÃO**\n",
        "## Logo, devemos nos ater ao fato de que series são dados bastante básicos, rápidos e eficientes para certas situações, mas para outras o encaixe não é perfefito, pois possui algumas restrições quando se trata de interação de dados de séries distintas."
      ]
    },
    {
      "cell_type": "markdown",
      "metadata": {
        "id": "i_3nZcx8LsKZ"
      },
      "source": [
        "#**3.  DATAFRAMES:**\n",
        "## DataFrame é a principal estrutura de dados da biblioteca pandas. É constituído por series. Digamos que as series são o vetor e o dataframe é a matriz, tomando por base a álgebra linear. Tudo o que se aplica a series pode ser aplicado a DataFrames.\n",
        "\n",
        "## CRIANDO UM DATAFRAME."
      ]
    },
    {
      "cell_type": "code",
      "metadata": {
        "id": "itgtPjBwPTp2",
        "colab": {
          "base_uri": "https://localhost:8080/"
        },
        "outputId": "223807fa-399b-4ecb-fa79-abe5b6da6ba1"
      },
      "source": [
        "base = {\n",
        "    'NOME': ['Amanda', 'Tauriel', 'Joaquim', 'Théo', 'Bolinha', 'Kiara', 'Mel'],\n",
        "    'TELEFONE': ['889927', '885587', '895587', '895587', '659895', '336441', '598971'],  \n",
        "    'E-MAIL': ['amanda@gmail.com', 'tauriel@gmail.com', 'joaquim@gmail.com', 'theo@gmail.com', 'bolinha@gmail.com', 'kiara@gmail.com', 'mel@gmail.com'],\n",
        "    'IDADE': [23, 3, 1, 0, 0, 0, 1]\n",
        "        }\n",
        "\n",
        "data1 = pd.DataFrame(data = base, index = np.arange(1,8))\n",
        "\n",
        "print(data1)\n",
        "print('\\n')\n",
        "print(data1.head(3))"
      ],
      "execution_count": 51,
      "outputs": [
        {
          "output_type": "stream",
          "name": "stdout",
          "text": [
            "      NOME TELEFONE             E-MAIL  IDADE\n",
            "1   Amanda   889927   amanda@gmail.com     23\n",
            "2  Tauriel   885587  tauriel@gmail.com      3\n",
            "3  Joaquim   895587  joaquim@gmail.com      1\n",
            "4     Théo   895587     theo@gmail.com      0\n",
            "5  Bolinha   659895  bolinha@gmail.com      0\n",
            "6    Kiara   336441    kiara@gmail.com      0\n",
            "7      Mel   598971      mel@gmail.com      1\n",
            "\n",
            "\n",
            "      NOME TELEFONE             E-MAIL  IDADE\n",
            "1   Amanda   889927   amanda@gmail.com     23\n",
            "2  Tauriel   885587  tauriel@gmail.com      3\n",
            "3  Joaquim   895587  joaquim@gmail.com      1\n"
          ]
        }
      ]
    },
    {
      "cell_type": "markdown",
      "metadata": {
        "id": "vsTijjX5ozxa"
      },
      "source": [
        "## -> DataFrames são estruturas de dados geralmente criadas a partir de dicionários, trazendo-nos dados organizados de modo semelhante às planilhas do excel. Porém, podemos criar DataFrames a partir de outros tipos de dados, como arquivos  .csv ou .json, por exemplo. Percebe-se que assim como as series os dataframes têm mapeamento, o qual facilita a manipulação desses dados sem a necessidade de ferramentas externas."
      ]
    },
    {
      "cell_type": "code",
      "metadata": {
        "colab": {
          "base_uri": "https://localhost:8080/"
        },
        "id": "7AsaLCXLpPXn",
        "outputId": "10503baa-fea1-4419-c847-dbc4410cab45"
      },
      "source": [
        "# O método info gera um resumo do dataframe, tendo em vista que essa base de dados está associada a uma variável.\n",
        "print(data1.info())\n",
        "\n",
        "# O método describe é outra forma de verificação rápida dos dados do dataframe.\n",
        "print(data1.describe())"
      ],
      "execution_count": 17,
      "outputs": [
        {
          "output_type": "stream",
          "name": "stdout",
          "text": [
            "<class 'pandas.core.frame.DataFrame'>\n",
            "Int64Index: 7 entries, 1 to 7\n",
            "Data columns (total 3 columns):\n",
            " #   Column    Non-Null Count  Dtype \n",
            "---  ------    --------------  ----- \n",
            " 0   NOME      7 non-null      object\n",
            " 1   TELEFONE  7 non-null      object\n",
            " 2   E-MAIL    7 non-null      object\n",
            "dtypes: object(3)\n",
            "memory usage: 224.0+ bytes\n",
            "None\n",
            "         NOME TELEFONE           E-MAIL\n",
            "count       7        7                7\n",
            "unique      7        6                7\n",
            "top     Kiara   895587  kiara@gmail.com\n",
            "freq        1        2                1\n"
          ]
        }
      ]
    },
    {
      "cell_type": "markdown",
      "metadata": {
        "id": "8iG9i8f3yb37"
      },
      "source": [
        "## Explorando o parâmetro columns"
      ]
    },
    {
      "cell_type": "code",
      "metadata": {
        "colab": {
          "base_uri": "https://localhost:8080/"
        },
        "id": "TI3SyA03zIgW",
        "outputId": "1ddfd694-63f7-40ab-e304-f29fe895fc0a"
      },
      "source": [
        "# No parâmetro columns especificamos que referências passaremos aos nossos cabeçalhos do DataFrame. \n",
        "# Como um DataFrame é uma espécie de array multidimensional, pode ter infinitas colunas.\n",
        "\n",
        "print(data1.columns)  # imprime as colunas do DataFrame data1.\n",
        "\n",
        "print(data1.index)    # retorna os índices dos registros.\n",
        "\n",
        "# com os dados do dataframe corretamente mapeados, ou seja, tanto as linhas quanto as colunas identificadas, podemos fazer uma espécie de busca no estilo batalha naval, para identificar onde estão os dados.\n",
        "print(data1['NOME'])\n",
        "print('\\n')\n",
        "print(data1['E-MAIL'])  # damos à coluna o nome de serie, pois ela é de fato, tendo em vista que cada coluna do dataframe é uma serie.\n",
        "print(data1['TELEFONE'])\n",
        "print(data1['NOME'][1])\n"
      ],
      "execution_count": 18,
      "outputs": [
        {
          "output_type": "stream",
          "name": "stdout",
          "text": [
            "Index(['NOME', 'TELEFONE', 'E-MAIL'], dtype='object')\n",
            "Int64Index([1, 2, 3, 4, 5, 6, 7], dtype='int64')\n",
            "1     Amanda\n",
            "2    Tauriel\n",
            "3    Joaquim\n",
            "4       Théo\n",
            "5    Bolinha\n",
            "6      Kiara\n",
            "7        Mel\n",
            "Name: NOME, dtype: object\n",
            "\n",
            "\n",
            "1     amanda@gmail.com\n",
            "2    tauriel@gmail.com\n",
            "3    joaquim@gmail.com\n",
            "4       theo@gmail.com\n",
            "5    bolinha@gmail.com\n",
            "6      kiara@gmail.com\n",
            "7        mel@gmail.com\n",
            "Name: E-MAIL, dtype: object\n",
            "1    889927\n",
            "2    885587\n",
            "3    895587\n",
            "4    895587\n",
            "5    659895\n",
            "6    336441\n",
            "7    598971\n",
            "Name: TELEFONE, dtype: object\n",
            "Amanda\n"
          ]
        }
      ]
    },
    {
      "cell_type": "code",
      "metadata": {
        "colab": {
          "base_uri": "https://localhost:8080/"
        },
        "id": "5PTG3GcgCG4N",
        "outputId": "446d9f05-1f13-432e-83a7-d7a2b9e17706"
      },
      "source": [
        "# podemos extrair os dados de uma coluna também referenciando apenas o nome da coluna:\n",
        "\n",
        "print(data1.NOME)\n",
        "\n",
        "# logo: data1.NOME = data1['NOME']\n",
        "# data1.NOME é o método nativo, porém é limitado, pois permite a extração de apenas uma coluna por vez.\n",
        "# data1['NOME', 'TELEFONE'] permite a extração de mais de uma coluna por vez."
      ],
      "execution_count": 19,
      "outputs": [
        {
          "output_type": "stream",
          "name": "stdout",
          "text": [
            "1     Amanda\n",
            "2    Tauriel\n",
            "3    Joaquim\n",
            "4       Théo\n",
            "5    Bolinha\n",
            "6      Kiara\n",
            "7        Mel\n",
            "Name: NOME, dtype: object\n"
          ]
        }
      ]
    },
    {
      "cell_type": "markdown",
      "metadata": {
        "id": "bwohcBnxDr6z"
      },
      "source": [
        "### Criando colunas manualmente:\n"
      ]
    },
    {
      "cell_type": "code",
      "metadata": {
        "colab": {
          "base_uri": "https://localhost:8080/"
        },
        "id": "PIWeP_JWEBsy",
        "outputId": "a46bf947-9353-4fd9-9240-696b80e8e93d"
      },
      "source": [
        "data1['SEXO'] = ['F', 'F', 'M', 'M', 'F', 'F', 'F']\n",
        "\n",
        "print(data1)"
      ],
      "execution_count": 20,
      "outputs": [
        {
          "output_type": "stream",
          "name": "stdout",
          "text": [
            "      NOME TELEFONE             E-MAIL SEXO\n",
            "1   Amanda   889927   amanda@gmail.com    F\n",
            "2  Tauriel   885587  tauriel@gmail.com    F\n",
            "3  Joaquim   895587  joaquim@gmail.com    M\n",
            "4     Théo   895587     theo@gmail.com    M\n",
            "5  Bolinha   659895  bolinha@gmail.com    F\n",
            "6    Kiara   336441    kiara@gmail.com    F\n",
            "7      Mel   598971      mel@gmail.com    F\n"
          ]
        }
      ]
    },
    {
      "cell_type": "markdown",
      "metadata": {
        "id": "8fFFE-x2FRoo"
      },
      "source": [
        "### Removendo colunas manualmente:"
      ]
    },
    {
      "cell_type": "code",
      "metadata": {
        "id": "43VKycVFFVmB"
      },
      "source": [
        "# existem diversas formas de remover uma coluna do dataframe, uma delas é aplicar o método drop().\n",
        "\n",
        "data1 = data1.drop('TELEFONE', axis=1, inplace=True) # remove todos os elementos da coluna TELEFFONE, por isso utiliza-se o axis = 1, para que não se remova os elementos da linha apenas.\n",
        "\n",
        "# o parâmetro inplace torna a exclusão permanente, caso contrário, sem o uso do inplace, os dados ficariam presentes, mas sem referências.\n"
      ],
      "execution_count": null,
      "outputs": []
    },
    {
      "cell_type": "code",
      "metadata": {
        "colab": {
          "base_uri": "https://localhost:8080/"
        },
        "id": "tWrEuaclGGcw",
        "outputId": "0236b75e-186d-4eb2-b7e5-8f8c5e48365d"
      },
      "source": [
        "print(data1) # exibe-se o dataframe data1 com a coluna telefone devidamente removida."
      ],
      "execution_count": 21,
      "outputs": [
        {
          "output_type": "stream",
          "name": "stdout",
          "text": [
            "      NOME TELEFONE             E-MAIL SEXO\n",
            "1   Amanda   889927   amanda@gmail.com    F\n",
            "2  Tauriel   885587  tauriel@gmail.com    F\n",
            "3  Joaquim   895587  joaquim@gmail.com    M\n",
            "4     Théo   895587     theo@gmail.com    M\n",
            "5  Bolinha   659895  bolinha@gmail.com    F\n",
            "6    Kiara   336441    kiara@gmail.com    F\n",
            "7      Mel   598971      mel@gmail.com    F\n"
          ]
        }
      ]
    },
    {
      "cell_type": "code",
      "metadata": {
        "colab": {
          "base_uri": "https://localhost:8080/"
        },
        "id": "slJzCJagHD3c",
        "outputId": "cee2dd58-6bef-4126-ad21-05fbed3c1ec4"
      },
      "source": [
        "# outra forma de remover uma coluna é utilizar a função do sistema 'del'\n",
        "\n",
        "del data1['E-MAIL'] # trata-se de uma função do sistema, logo, a exclusão é permanente.\n",
        "\n",
        "print(data1)"
      ],
      "execution_count": 22,
      "outputs": [
        {
          "output_type": "stream",
          "name": "stdout",
          "text": [
            "      NOME TELEFONE SEXO\n",
            "1   Amanda   889927    F\n",
            "2  Tauriel   885587    F\n",
            "3  Joaquim   895587    M\n",
            "4     Théo   895587    M\n",
            "5  Bolinha   659895    F\n",
            "6    Kiara   336441    F\n",
            "7      Mel   598971    F\n"
          ]
        }
      ]
    },
    {
      "cell_type": "markdown",
      "metadata": {
        "id": "FJkR2OVCJNOt"
      },
      "source": [
        "### Ordenando os elementos de uma coluna:"
      ]
    },
    {
      "cell_type": "code",
      "metadata": {
        "colab": {
          "base_uri": "https://localhost:8080/"
        },
        "id": "bNaxd0pVJShw",
        "outputId": "ec096a22-62d5-413c-e277-ac2eea14f470"
      },
      "source": [
        "data1.sort_values(by='NOME', inplace=True) # ordenação ascendente por nome\n",
        "\n",
        "print(data1)"
      ],
      "execution_count": 31,
      "outputs": [
        {
          "output_type": "stream",
          "name": "stdout",
          "text": [
            "      NOME TELEFONE SEXO\n",
            "1   Amanda   889927    F\n",
            "5  Bolinha   659895    F\n",
            "3  Joaquim   895587    M\n",
            "6    Kiara   336441    F\n",
            "7      Mel   598971    F\n",
            "2  Tauriel   885587    F\n",
            "4     Théo   895587    M\n"
          ]
        }
      ]
    },
    {
      "cell_type": "code",
      "metadata": {
        "colab": {
          "base_uri": "https://localhost:8080/"
        },
        "id": "27vOvp5hJi4F",
        "outputId": "0094e083-969b-497e-9844-f0f8ceeb9236"
      },
      "source": [
        "data1.sort_values(by='TELEFONE', inplace=True) # ordenação ascendente (padrão) por telefone\n",
        "print(data1)"
      ],
      "execution_count": 24,
      "outputs": [
        {
          "output_type": "stream",
          "name": "stdout",
          "text": [
            "      NOME TELEFONE SEXO\n",
            "6    Kiara   336441    F\n",
            "7      Mel   598971    F\n",
            "5  Bolinha   659895    F\n",
            "2  Tauriel   885587    F\n",
            "1   Amanda   889927    F\n",
            "3  Joaquim   895587    M\n",
            "4     Théo   895587    M\n"
          ]
        }
      ]
    },
    {
      "cell_type": "code",
      "metadata": {
        "colab": {
          "base_uri": "https://localhost:8080/"
        },
        "id": "wkvl2j6xKfXe",
        "outputId": "507e43b6-6e37-444f-fa4c-af000ac39542"
      },
      "source": [
        "data1.sort_values(by='TELEFONE', ascending=False, inplace=True) # neste caso, é ordenado de forma descendente, já que no parâmetro ascending foi posto False.\n",
        "print(data1)"
      ],
      "execution_count": 25,
      "outputs": [
        {
          "output_type": "stream",
          "name": "stdout",
          "text": [
            "      NOME TELEFONE SEXO\n",
            "3  Joaquim   895587    M\n",
            "4     Théo   895587    M\n",
            "1   Amanda   889927    F\n",
            "2  Tauriel   885587    F\n",
            "5  Bolinha   659895    F\n",
            "7      Mel   598971    F\n",
            "6    Kiara   336441    F\n"
          ]
        }
      ]
    },
    {
      "cell_type": "markdown",
      "metadata": {
        "id": "5wQRkbemAkgL"
      },
      "source": [
        "## Método loc[]"
      ]
    },
    {
      "cell_type": "markdown",
      "metadata": {
        "id": "C-UA2EWa-qWB"
      },
      "source": [
        "## Extraindo dados de uma linha específica:"
      ]
    },
    {
      "cell_type": "code",
      "metadata": {
        "colab": {
          "base_uri": "https://localhost:8080/"
        },
        "id": "VGTNSQns-uEm",
        "outputId": "aaf28fb5-cda1-4c1d-bef0-f7d4dbea1118"
      },
      "source": [
        "# utiliza-se o método loc() quando se quer imprimir um registro do dataframe, ou seja, quando se quer imprimir uma linha.\n",
        "# Esse método utiliza o índice da serie para localizar a linha em questão.\n",
        "print(data1.loc[2])"
      ],
      "execution_count": 26,
      "outputs": [
        {
          "output_type": "stream",
          "name": "stdout",
          "text": [
            "NOME        Tauriel\n",
            "TELEFONE     885587\n",
            "SEXO              F\n",
            "Name: 2, dtype: object\n"
          ]
        }
      ]
    },
    {
      "cell_type": "markdown",
      "metadata": {
        "id": "ZRN_LbMoAe2Z"
      },
      "source": [
        "## Extraindo dados de um registro específico:"
      ]
    },
    {
      "cell_type": "code",
      "metadata": {
        "colab": {
          "base_uri": "https://localhost:8080/"
        },
        "id": "JYqdAZ2GAiUd",
        "outputId": "3c006030-f127-4bd6-ebab-106a240c26d2"
      },
      "source": [
        "# a primeira referência está associada à linha e a segunda está associada à coluna. \n",
        "print(data1.loc[2, 'NOME']) # elemento da linha 2 da coluna 'NOME'"
      ],
      "execution_count": 27,
      "outputs": [
        {
          "output_type": "stream",
          "name": "stdout",
          "text": [
            "Tauriel\n"
          ]
        }
      ]
    },
    {
      "cell_type": "markdown",
      "metadata": {
        "id": "2K6OJ5NwahC6"
      },
      "source": [
        "## Extraindo dados de múltiplos elementos:"
      ]
    },
    {
      "cell_type": "code",
      "metadata": {
        "colab": {
          "base_uri": "https://localhost:8080/"
        },
        "id": "WtR6Khr0alrO",
        "outputId": "437913fb-1cc4-45ae-d679-9d284d454ec0"
      },
      "source": [
        "# múltiplos elementos do dataframe podem ser extraídos:\n",
        "\n",
        "print(data1.loc[[2,3],['NOME', 'TELEFONE']]) # imprima os elementos das colunas nome e telefone que estejam nas linhas 2 e 3."
      ],
      "execution_count": 28,
      "outputs": [
        {
          "output_type": "stream",
          "name": "stdout",
          "text": [
            "      NOME TELEFONE\n",
            "2  Tauriel   885587\n",
            "3  Joaquim   895587\n"
          ]
        }
      ]
    },
    {
      "cell_type": "markdown",
      "metadata": {
        "id": "Jqy4wB643Edp"
      },
      "source": [
        "## Método iloc[]\n",
        "### Assemelha-se ao loc[], porém é mais robusto. Utiliza de intervalos numéricos (dos índices) para a extração de elementos de uma lista."
      ]
    },
    {
      "cell_type": "code",
      "metadata": {
        "colab": {
          "base_uri": "https://localhost:8080/"
        },
        "id": "F2XPUuWr3Zxm",
        "outputId": "392cadb8-4bbb-4626-f787-582327fb1bf3"
      },
      "source": [
        "data1.sort_values(by='NOME', inplace=True)\n",
        "print(data1.iloc[1:3, 0:2]) # o primeiro parametro se refere aos registros e o segundo se refere às colunas."
      ],
      "execution_count": 40,
      "outputs": [
        {
          "output_type": "stream",
          "name": "stdout",
          "text": [
            "      NOME TELEFONE\n",
            "5  Bolinha   659895\n",
            "3  Joaquim   895587\n"
          ]
        }
      ]
    },
    {
      "cell_type": "markdown",
      "metadata": {
        "id": "U4vJwt2bDnXk"
      },
      "source": [
        "## Buscando elementos via condicionais (uma forma rápida de filtrar dataframes):"
      ]
    },
    {
      "cell_type": "code",
      "metadata": {
        "colab": {
          "base_uri": "https://localhost:8080/"
        },
        "id": "GAVVnOPBDxzf",
        "outputId": "9348be49-c96f-4abf-c3d2-63a662e21cc0"
      },
      "source": [
        "# tamanho do DF(DataFrame):\n",
        "print(f'1.  Quantidade de usuários: {len(data1)}\\n') # indica a quantidade de usuários\n",
        "L = []\n",
        "soma = 0\n",
        "\n",
        "for i in data1.IDADE:\n",
        "  if i >= 1:\n",
        "    soma = soma + i\n",
        "    L.append(i)\n",
        "\n",
        "print(f'2.  Quantidade de usuários aptos: {len(L)}.\\n')\n",
        "\n",
        "\n",
        "print('3.  Idades dos usuários aptos:', end=' ')\n",
        "for i in L:\n",
        "  print(i, end='  ')\n",
        "\n",
        "print(f'\\n\\n4.  Média de Idades: {soma/len(L)}\\n')\n",
        "print(f'5.  Mediana de Idades: {L[int(len(L)/2)] + L[int(len(L)/2) + 1]:.1f}')\n",
        "\n",
        "\n"
      ],
      "execution_count": 128,
      "outputs": [
        {
          "output_type": "stream",
          "name": "stdout",
          "text": [
            "1.  Quantidade de usuários: 7\n",
            "\n",
            "2.  Quantidade de usuários aptos: 4.\n",
            "\n",
            "3.  Idades dos usuários aptos: 23  3  1  1  \n",
            "\n",
            "4.  Média de Idades: 7.0\n",
            "\n",
            "5.  Mediana de Idades: 2.0\n"
          ]
        }
      ]
    },
    {
      "cell_type": "markdown",
      "metadata": {
        "id": "7oWDBEfic-9i"
      },
      "source": [
        "## Operações matemáticas em DataFrames:"
      ]
    },
    {
      "cell_type": "code",
      "metadata": {
        "colab": {
          "base_uri": "https://localhost:8080/"
        },
        "id": "X6-9xqPtdFay",
        "outputId": "fc186025-8e1c-4e54-b308-85ab90338304"
      },
      "source": [
        "# construindo um novo DF:\n",
        "# os valores gerados para o DF são aleatórios :).\n",
        "dados = pd.DataFrame(data=np.random.randn(6,5), # 6 linhas e 5 colunas => resulta em uma matrix 6x5\n",
        "                     index=np.arange(1,7),  # define-se o intervalo dos índices\n",
        "                     columns=['a', 'b', 'c', 'd', 'e'] # nomeia-se os cabeçalhos das colunas\n",
        "                     )\n",
        "print('\\033[35mMATRIZ 6x5:'.center(55))\n",
        "print(f'{dados}\\n\\033[m')\n",
        "\n",
        "print('\\033[34mSOMA:'.center(55))\n",
        "print(f'Soma dos elementos da coluna a: {dados.a.sum():.2f} aproximadamente.')\n",
        "print(f'Soma dos elementos da coluna b: {dados.b.sum():.2f} aproximadamente.')\n",
        "print(f'Soma dos elementos da coluna c: {dados.c.sum():.2f} aproximadamente.')\n",
        "print(f'Soma dos elementos da coluna d: {dados.d.sum():.2f} aproximadamente.')\n",
        "print(f'Soma dos elementos da coluna e: {dados.e.sum():.2f} aproximadamente.\\033[m')"
      ],
      "execution_count": 155,
      "outputs": [
        {
          "output_type": "stream",
          "name": "stdout",
          "text": [
            "                    \u001b[35mMATRIZ 6x5:                   \n",
            "          a         b         c         d         e\n",
            "1 -0.069961 -0.398363 -1.117429 -1.667492  2.024360\n",
            "2 -0.447279  0.520024  0.472343  1.708772  0.340910\n",
            "3 -0.101880 -0.162038  0.687289 -0.400603  0.739781\n",
            "4  0.223909  0.524871  0.932241  0.145026 -0.022695\n",
            "5  0.258512  1.402537 -0.036469  0.283845 -1.167400\n",
            "6 -1.285361  0.563394 -0.457813  1.669291 -1.535574\n",
            "\u001b[m\n",
            "                       \u001b[34mSOMA:                      \n",
            "Soma dos elementos da coluna a: -1.42 aproximadamente.\n",
            "Soma dos elementos da coluna b: 2.45 aproximadamente.\n",
            "Soma dos elementos da coluna c: 0.48 aproximadamente.\n",
            "Soma dos elementos da coluna d: 1.74 aproximadamente.\n",
            "Soma dos elementos da coluna e: 0.38 aproximadamente.\u001b[m\n"
          ]
        }
      ]
    },
    {
      "cell_type": "markdown",
      "metadata": {
        "id": "m_QDssVGudN3"
      },
      "source": [
        "### Podemos, também, aplicar uma operação matemática a todos os elementos."
      ]
    },
    {
      "cell_type": "code",
      "metadata": {
        "colab": {
          "base_uri": "https://localhost:8080/"
        },
        "id": "Wmg_CzBWw6Wg",
        "outputId": "b36160c6-58c2-4248-c17c-926d32a992b0"
      },
      "source": [
        "dados = dados + 1 # todos os valores do DataFrame original serão somados a um.\n",
        "\n",
        "print(dados)"
      ],
      "execution_count": 160,
      "outputs": [
        {
          "output_type": "stream",
          "name": "stdout",
          "text": [
            "          a         b         c         d         e\n",
            "1  2.930039  2.601637  1.882571  1.332508  5.024360\n",
            "2  2.552721  3.520024  3.472343  4.708772  3.340910\n",
            "3  2.898120  2.837962  3.687289  2.599397  3.739781\n",
            "4  3.223909  3.524871  3.932241  3.145026  2.977305\n",
            "5  3.258512  4.402537  2.963531  3.283845  1.832600\n",
            "6  1.714639  3.563394  2.542187  4.669291  1.464426\n"
          ]
        }
      ]
    },
    {
      "cell_type": "markdown",
      "metadata": {
        "id": "X_yIcQGazzRO"
      },
      "source": [
        "### Podemos também aplicar funções matemáticas personalizadas utilizando o método apply():"
      ]
    },
    {
      "cell_type": "code",
      "metadata": {
        "colab": {
          "base_uri": "https://localhost:8080/"
        },
        "id": "-vu3_1NRz3bH",
        "outputId": "64648f2a-e04a-4af0-8c04-eee8af98d7db"
      },
      "source": [
        "print(dados)\n",
        "\n",
        "def quadrado(a):\n",
        "  return a ** 2\n",
        "\n",
        "print(dados.a.apply(quadrado))\n"
      ],
      "execution_count": 164,
      "outputs": [
        {
          "output_type": "stream",
          "name": "stdout",
          "text": [
            "          a         b         c         d         e\n",
            "1  2.930039  2.601637  1.882571  1.332508  5.024360\n",
            "2  2.552721  3.520024  3.472343  4.708772  3.340910\n",
            "3  2.898120  2.837962  3.687289  2.599397  3.739781\n",
            "4  3.223909  3.524871  3.932241  3.145026  2.977305\n",
            "5  3.258512  4.402537  2.963531  3.283845  1.832600\n",
            "6  1.714639  3.563394  2.542187  4.669291  1.464426\n",
            "1     8.585126\n",
            "2     6.516386\n",
            "3     8.399102\n",
            "4    10.393589\n",
            "5    10.617900\n",
            "6     2.939986\n",
            "Name: a, dtype: float64\n"
          ]
        }
      ]
    },
    {
      "cell_type": "code",
      "metadata": {
        "colab": {
          "base_uri": "https://localhost:8080/"
        },
        "id": "9kqO9HJI0rp6",
        "outputId": "088fea43-b6ed-4638-b630-dc7d6282ee13"
      },
      "source": [
        "# utilizando o iloc[]:\n",
        "\n",
        "print(dados.iloc[0:1, 1:2].apply(quadrado)) # linha um coluna dois"
      ],
      "execution_count": 166,
      "outputs": [
        {
          "output_type": "stream",
          "name": "stdout",
          "text": [
            "          b\n",
            "1  6.768516\n"
          ]
        }
      ]
    }
  ]
}